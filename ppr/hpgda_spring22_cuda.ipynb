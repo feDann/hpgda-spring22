{
  "cells": [
    {
      "cell_type": "code",
      "execution_count": null,
      "metadata": {
        "colab": {
          "base_uri": "https://localhost:8080/"
        },
        "id": "nTG6_HuCvSTd",
        "outputId": "628166d4-bc82-4aaa-9d57-067abccc4797"
      },
      "outputs": [],
      "source": [
        "# Download the repository\n",
        "!git clone https://github.com/gwdidonato/hpgda-spring22.git"
      ]
    },
    {
      "cell_type": "code",
      "execution_count": null,
      "metadata": {
        "colab": {
          "base_uri": "https://localhost:8080/"
        },
        "id": "QErs-KGiyhi_",
        "outputId": "be294489-e9bc-4499-f215-9c7cabe71bf0"
      },
      "outputs": [],
      "source": [
        "# Install CUDA\n",
        "!wget https://developer.download.nvidia.com/compute/cuda/repos/ubuntu1804/x86_64/cuda-ubuntu1804.pin\n",
        "!sudo mv cuda-ubuntu1804.pin /etc/apt/preferences.d/cuda-repository-pin-600\n",
        "!wget https://developer.download.nvidia.com/compute/cuda/11.5.0/local_installers/cuda-repo-ubuntu1804-11-5-local_11.5.0-495.29.05-1_amd64.deb\n",
        "!sudo dpkg -i cuda-repo-ubuntu1804-11-5-local_11.5.0-495.29.05-1_amd64.deb\n",
        "!sudo apt-key add /var/cuda-repo-ubuntu1804-11-5-local/7fa2af80.pub\n",
        "!sudo apt-get update\n",
        "!sudo apt-get -y install cuda"
      ]
    },
    {
      "cell_type": "code",
      "execution_count": null,
      "metadata": {
        "colab": {
          "base_uri": "https://localhost:8080/"
        },
        "id": "-xjgeO09XYnL",
        "outputId": "72b4030a-665d-4e58-f326-28a866189fb5"
      },
      "outputs": [],
      "source": [
        "%cd hpgda-spring22/cuda  \n",
        "!git pull                                       # Ensure right data are available\n",
        "#!git checkout kepler                            # Branch with code runnable on K80\n",
        "import os                                       # Find nvcc on command line\n",
        "os.environ['PATH'] += ':/usr/local/cuda/bin'\n",
        "!make                                           # Build the code"
      ]
    },
    {
      "cell_type": "code",
      "execution_count": null,
      "metadata": {
        "colab": {
          "base_uri": "https://localhost:8080/"
        },
        "id": "HhBtUPRst5RO",
        "outputId": "c1c1d43a-8fb8-4fd1-927e-6576ec292e3c"
      },
      "outputs": [],
      "source": [
        "!chmod 755 run.sh # Ensure run.sh is executable\n",
        "!./run.sh         # Run the code!"
      ]
    }
  ],
  "metadata": {
    "accelerator": "GPU",
    "colab": {
      "collapsed_sections": [],
      "name": "high-performance-graph-analytics-2021.ipynb",
      "provenance": []
    },
    "kernelspec": {
      "display_name": "Python 3",
      "name": "python3"
    },
    "language_info": {
      "name": "python"
    }
  },
  "nbformat": 4,
  "nbformat_minor": 0
}
